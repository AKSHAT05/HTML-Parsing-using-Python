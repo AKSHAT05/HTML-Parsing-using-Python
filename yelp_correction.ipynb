{
 "cells": [
  {
   "cell_type": "code",
   "execution_count": null,
   "metadata": {
    "collapsed": true
   },
   "outputs": [],
   "source": [
    "from lxml.html import fromstring\n",
    "import lxml.html as PARSER\n",
    "from datetime import datetime\n",
    "import os\n",
    "import re\n",
    "filesindir=[]\n",
    "for root, dirs, files  in os.walk('C:\\\\Users\\\\aksha\\\\Desktop\\\\Scraping\\\\VirtualEnv\\\\TestProject\\\\tutorial\\\\tutorial\\\\Yelp\\\\main', topdown=False):\n",
    "    for name in files:\n",
    "        filepath=os.path.join(root, name)\n",
    "        filesindir.append(filepath)\n",
    "target = open('C:\\\\Users\\\\aksha\\\\Desktop\\\\main_yelp-woodberry-kitchen-baltimore-filtered.txt','w')\n",
    "print(filesindir)\n",
    "for name in filesindir:\n",
    "    data = open(name).read()\n",
    "    root = PARSER.fromstring(data)\n",
    "    finalstrtowrite=\"\"\n",
    "    for ele in root.getiterator():\n",
    "        if (ele.tag==\"span\" and ele.get(\"class\")==\"rating-qualifier\"):\n",
    "            r_unwanted = re.compile(\"[\\n]\")\n",
    "            date=ele.text_content()\n",
    "            dateto=date.strip()\n",
    "            print(dateto)\n",
    "            finalstrtowrite=finalstrtowrite+(datetime.strptime(dateto,'%m/%d/%Y').strftime('%y/%m/%d'))+\"xxxxYelp.comxxxx\""
   ]
  }
 ],
 "metadata": {
  "kernelspec": {
   "display_name": "Python [conda root]",
   "language": "python",
   "name": "conda-root-py"
  },
  "language_info": {
   "codemirror_mode": {
    "name": "ipython",
    "version": 3
   },
   "file_extension": ".py",
   "mimetype": "text/x-python",
   "name": "python",
   "nbconvert_exporter": "python",
   "pygments_lexer": "ipython3",
   "version": "3.5.2"
  }
 },
 "nbformat": 4,
 "nbformat_minor": 1
}
